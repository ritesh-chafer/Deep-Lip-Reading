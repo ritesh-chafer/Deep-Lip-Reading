{
  "nbformat": 4,
  "nbformat_minor": 0,
  "metadata": {
    "colab": {
      "name": "test_model.ipynb",
      "provenance": [],
      "toc_visible": true,
      "authorship_tag": "ABX9TyOLHAjxMooiJpjBMLuqaSGC",
      "include_colab_link": true
    },
    "kernelspec": {
      "name": "python3",
      "display_name": "Python 3"
    },
    "language_info": {
      "name": "python"
    }
  },
  "cells": [
    {
      "cell_type": "markdown",
      "metadata": {
        "id": "view-in-github",
        "colab_type": "text"
      },
      "source": [
        "<a href=\"https://colab.research.google.com/github/ritesh-chafer/Deep-Lip-Reading/blob/main/test_model.ipynb\" target=\"_parent\"><img src=\"https://colab.research.google.com/assets/colab-badge.svg\" alt=\"Open In Colab\"/></a>"
      ]
    },
    {
      "cell_type": "code",
      "execution_count": null,
      "metadata": {
        "colab": {
          "base_uri": "https://localhost:8080/"
        },
        "id": "FpxFgMxln6om",
        "outputId": "3546b9d9-0bbf-4622-c938-1b739ac76181"
      },
      "outputs": [
        {
          "output_type": "stream",
          "name": "stdout",
          "text": [
            "Mounted at /content/gdrive\n"
          ]
        }
      ],
      "source": [
        "from google.colab import drive\n",
        "drive.mount('/content/gdrive')"
      ]
    },
    {
      "cell_type": "code",
      "source": [
        "!unzip -u \"/content/gdrive/MyDrive/Lip Reading/archive.zip\" -d \"/content/gdrive/MyDrive/Lip Reading/Lip_Dataset\""
      ],
      "metadata": {
        "id": "IdtKunrmsUrM",
        "colab": {
          "base_uri": "https://localhost:8080/"
        },
        "outputId": "3cb74296-a507-4582-d21d-4a2248c3538c"
      },
      "execution_count": null,
      "outputs": [
        {
          "output_type": "stream",
          "name": "stdout",
          "text": [
            "unzip:  cannot find or open /content/gdrive/MyDrive/Lip Reading/archive.zip, /content/gdrive/MyDrive/Lip Reading/archive.zip.zip or /content/gdrive/MyDrive/Lip Reading/archive.zip.ZIP.\n"
          ]
        }
      ]
    },
    {
      "cell_type": "code",
      "source": [
        "import numpy as np \n",
        "import pandas as pd"
      ],
      "metadata": {
        "id": "5WugIwzEoNEZ"
      },
      "execution_count": null,
      "outputs": []
    },
    {
      "cell_type": "code",
      "source": [
        "!pip install dlib\n",
        "!pip install imutils"
      ],
      "metadata": {
        "colab": {
          "base_uri": "https://localhost:8080/"
        },
        "id": "Y6W2qXHk3S29",
        "outputId": "bf14512a-d181-4f4d-a11f-f48289e185a7"
      },
      "execution_count": null,
      "outputs": [
        {
          "output_type": "stream",
          "name": "stdout",
          "text": [
            "Requirement already satisfied: dlib in /usr/local/lib/python3.7/dist-packages (19.18.0)\n",
            "Requirement already satisfied: imutils in /usr/local/lib/python3.7/dist-packages (0.5.4)\n"
          ]
        }
      ]
    },
    {
      "cell_type": "code",
      "source": [
        "import numpy as np\n",
        "import os\n",
        "import imutils\n",
        "import dlib\n",
        "import cv2 \n",
        "\n",
        "import imageio\n",
        "from imutils import face_utils"
      ],
      "metadata": {
        "id": "A8kygbjT3Vbv"
      },
      "execution_count": null,
      "outputs": []
    },
    {
      "cell_type": "code",
      "source": [
        "def rect_to_bb(rect):\n",
        "    # take a bounding predicted by dlib and convert it\n",
        "    # to the format (x, y, w, h) as we would normally do\n",
        "    # with OpenCV\n",
        "    x = rect.left()\n",
        "    y = rect.top()\n",
        "    w = rect.right() - x\n",
        "    h = rect.bottom() - y\n",
        "\n",
        "    # return a tuple of (x, y, w, h)\n",
        "    return (x, y, w, h)\n",
        "\n",
        "def shape_to_np(shape, dtype=\"int\"):\n",
        "    # initialize the list of (x, y)-coordinates\n",
        "    coords = np.zeros((68, 2), dtype=dtype)\n",
        "\n",
        "    # loop over the 68 facial landmarks and convert them\n",
        "    # to a 2-tuple of (x, y)-coordinates\n",
        "    for i in range(0, 68):\n",
        "    \tcoords[i] = (shape.part(i).x, shape.part(i).y)\n",
        "\n",
        "    # return the list of (x, y)-coordinates\n",
        "    return coords"
      ],
      "metadata": {
        "id": "7lPwbeMr3cb7"
      },
      "execution_count": null,
      "outputs": []
    },
    {
      "cell_type": "code",
      "source": [
        "def crop_and_save_image(img, img_path, write_img_path, img_name):\n",
        "    detector = dlib.get_frontal_face_detector()\n",
        "    predictor = dlib.shape_predictor('/content/gdrive/MyDrive/Lip Reading/Lip_Dataset/shape_predictor_68_face_landmarks.dat')\n",
        "    # load the input image, resize it, and convert it to grayscale\n",
        "\n",
        "    image = cv2.imread(img_path)\n",
        "    image = imutils.resize(image, width=500)\n",
        "    gray = cv2.cvtColor(image, cv2.COLOR_BGR2GRAY)\n",
        "\n",
        "    # detect faces in the grayscale image\n",
        "    rects = detector(gray, 1)\n",
        "    if len(rects) > 1:\n",
        "    \tprint( \"ERROR: more than one face detected\")\n",
        "    \treturn\n",
        "    if len(rects) < 1:\n",
        "    \tprint( \"ERROR: no faces detected\")\n",
        "    \treturn\n",
        "\n",
        "    for (i, rect) in enumerate(rects):\n",
        "        shape = predictor(gray, rect)\n",
        "        shape = face_utils.shape_to_np(shape)\n",
        "        name, i, j = 'mouth', 48, 68\n",
        "        # clone = gray.copy()\n",
        "\n",
        "        (x, y, w, h) = cv2.boundingRect(np.array([shape[i:j]]))        \n",
        "        roi = gray[y:y+h, x:x+w]\n",
        "        roi = imutils.resize(roi, width = 250, inter=cv2.INTER_CUBIC)        \n",
        "        print('cropped/' + write_img_path)\n",
        "        cv2.imwrite('cropped/' + write_img_path, roi)\n"
      ],
      "metadata": {
        "id": "vIdOPqFa3diD"
      },
      "execution_count": null,
      "outputs": []
    },
    {
      "cell_type": "code",
      "source": [
        "people = ['F01','F02']\n",
        "data_types = ['words']\n",
        "folder_enum = ['01','02']\n",
        "instances = ['01','02']\n",
        "\n",
        "words = ['Begin', 'Choose', 'Connection', 'Navigation', 'Next', 'Previous', 'Start', 'Stop', 'Hello', 'Web']          \n",
        "words_di = {i:words[i] for i in range(len(words))}"
      ],
      "metadata": {
        "id": "PJ8i7dz23tsz"
      },
      "execution_count": null,
      "outputs": []
    },
    {
      "cell_type": "code",
      "source": [
        "import shutil\n",
        "\n",
        "def crop_one_person():      \n",
        "    os.mkdir('cropped')\n",
        "    # people = ['F01']\n",
        "    # data_types = ['words']\n",
        "    # folder_enum = ['01']\n",
        "    # instances = ['01']\n",
        "\n",
        "    i = 1\n",
        "    for person_ID in people:\n",
        "        if not os.path.exists('cropped/' + person_ID ):\n",
        "            os.mkdir('cropped/' + person_ID + '/')\n",
        "\n",
        "        for data_type in data_types:\n",
        "            if not os.path.exists('cropped/' + person_ID + '/' + data_type):\n",
        "                os.mkdir('cropped/' + person_ID + '/' + data_type)\n",
        "\n",
        "            for phrase_ID in folder_enum:\n",
        "                if not os.path.exists('cropped/' + person_ID + '/' + data_type + '/' + phrase_ID):\n",
        "                    # F01/phrases/01\n",
        "                    os.mkdir('cropped/' + person_ID + '/' + data_type + '/' + phrase_ID)\n",
        "\n",
        "                for instance_ID in instances:\n",
        "                    # F01/phrases/01/01\n",
        "                    directory = '/content/gdrive/MyDrive/Lip Reading/Lip_Dataset/dataset' + person_ID + '/' + data_type + '/' + phrase_ID + '/' + instance_ID + '/'\n",
        "                    dir_temp = person_ID + '/' + data_type + '/' + phrase_ID + '/' + instance_ID + '/'\n",
        "                    print(directory)\n",
        "                    filelist = os.listdir(directory)\n",
        "                    if not os.path.exists('cropped/' + person_ID + '/' + data_type + '/' + phrase_ID + '/' + instance_ID):\n",
        "                        os.mkdir('cropped/' + person_ID + '/' + data_type + '/' + phrase_ID + '/' + instance_ID)\n",
        "\n",
        "                        for img_name in filelist:\n",
        "                            if img_name.startswith('color'):\n",
        "                                image = imageio.imread(directory + '' + img_name)\n",
        "                                crop_and_save_image(image, directory + '' + img_name,\n",
        "                                                    dir_temp + '' + img_name, img_name)\n",
        "\n",
        "    print(f'Iteration : {i}')\n",
        "    i += 1\n",
        "    shutil.rmtree('cropped')"
      ],
      "metadata": {
        "id": "YkZhHnwk3wDe"
      },
      "execution_count": null,
      "outputs": []
    },
    {
      "cell_type": "code",
      "source": [
        "max_seq_length = 22\n",
        "\n",
        "X_train = []\n",
        "y_train = []\n",
        "X_val = []\n",
        "y_val = []\n",
        "X_test = []\n",
        "y_test = []\n",
        "\n",
        "\n",
        "MAX_WIDTH = 100\n",
        "MAX_HEIGHT = 100"
      ],
      "metadata": {
        "id": "LSLEQuE-3-ih"
      },
      "execution_count": null,
      "outputs": []
    },
    {
      "cell_type": "code",
      "source": [
        "from skimage.transform import resize\n",
        "import time"
      ],
      "metadata": {
        "id": "fBh7R_B54Crr"
      },
      "execution_count": null,
      "outputs": []
    },
    {
      "cell_type": "code",
      "source": [
        "t1 = time.time()\n",
        "UNSEEN_VALIDATION_SPLIT = ['F07', 'M02']\n",
        "UNSEEN_TEST_SPLIT = ['F04']\n",
        "\n",
        "directory = \"/content/gdrive/MyDrive/Lip Reading/Lip_Dataset/cropped/cropped\"\n",
        "\n",
        "for person_id in people:\n",
        "    tx1 = time.time()\n",
        "    for data_type in data_types:\n",
        "        for word_index, word in enumerate(folder_enum):\n",
        "#             print(f\"Word : '{words[word_index]}'\")\n",
        "            for iteration in instances:\n",
        "                path = os.path.join(directory, person_id, data_type, word, iteration)\n",
        "                filelist = sorted(os.listdir(path + '/'))\n",
        "                sequence = [] \n",
        "                for img_name in filelist:\n",
        "                    if img_name.startswith('color'):\n",
        "                        image = imageio.imread(path + '/' + img_name)\n",
        "                        image = resize(image, (MAX_WIDTH, MAX_HEIGHT))\n",
        "                        image = 255 * image\n",
        "                        # Convert to integer data type pixels.\n",
        "                        image = image.astype(np.uint8)\n",
        "                        sequence.append(image)                        \n",
        "                pad_array = [np.zeros((MAX_WIDTH, MAX_HEIGHT))]                            \n",
        "                sequence.extend(pad_array * (max_seq_length - len(sequence)))\n",
        "                sequence = np.array(sequence)\n",
        "                                \n",
        "                if person_id in UNSEEN_TEST_SPLIT:\n",
        "                    X_test.append(sequence)\n",
        "                    y_test.append(word_index)\n",
        "                elif person_id in UNSEEN_VALIDATION_SPLIT:\n",
        "                    X_val.append(sequence)\n",
        "                    y_val.append(word_index)\n",
        "                else:\n",
        "                    X_train.append(sequence)\n",
        "                    y_train.append(word_index)    \n",
        "    tx2 = time.time()\n",
        "    print(f'Finished reading images for person {person_id}. Time taken : {tx2 - tx1} secs.')    \n",
        "    \n",
        "t2 = time.time()\n",
        "print(f\"Time taken for creating constant size 3D Tensors from those cropped lip regions : {t2 - t1} secs.\")"
      ],
      "metadata": {
        "colab": {
          "base_uri": "https://localhost:8080/"
        },
        "id": "ZnP5Y_XF4GP5",
        "outputId": "fdabd850-7e1b-484a-bc76-854e91117cff"
      },
      "execution_count": null,
      "outputs": [
        {
          "output_type": "stream",
          "name": "stdout",
          "text": [
            "Finished reading images for person F01. Time taken : 24.180984020233154 secs.\n",
            "Finished reading images for person F02. Time taken : 21.771908283233643 secs.\n",
            "Time taken for creating constant size 3D Tensors from those cropped lip regions : 45.95487880706787 secs.\n"
          ]
        }
      ]
    },
    {
      "cell_type": "code",
      "source": [
        "X_train = np.array(X_train)\n",
        "X_val = np.array(X_val)\n",
        "X_test = np.array(X_test)"
      ],
      "metadata": {
        "id": "8KKX_rCL4TYl"
      },
      "execution_count": null,
      "outputs": []
    },
    {
      "cell_type": "code",
      "source": [
        "print(X_train.shape)\n",
        "print(X_val.shape)\n",
        "print(X_test.shape)"
      ],
      "metadata": {
        "id": "YvdZEnL-4ajY",
        "colab": {
          "base_uri": "https://localhost:8080/"
        },
        "outputId": "6819862a-ef48-42f0-b3ac-4cc14f9a8158"
      },
      "execution_count": null,
      "outputs": [
        {
          "output_type": "stream",
          "name": "stdout",
          "text": [
            "(8, 22, 100, 100)\n",
            "(0,)\n",
            "(0,)\n"
          ]
        }
      ]
    },
    {
      "cell_type": "code",
      "source": [
        "y_train = np.array(y_train)\n",
        "y_val = np.array(y_val)\n",
        "y_test = np.array(y_test)"
      ],
      "metadata": {
        "id": "qe4pkP7u4aYs"
      },
      "execution_count": null,
      "outputs": []
    },
    {
      "cell_type": "code",
      "source": [
        "print(y_train.shape)\n",
        "print(y_val.shape)\n",
        "print(y_test.shape)"
      ],
      "metadata": {
        "id": "4NGabHsg4gKS",
        "colab": {
          "base_uri": "https://localhost:8080/"
        },
        "outputId": "0c820bd1-b6bb-4097-ced3-427aeffe1625"
      },
      "execution_count": null,
      "outputs": [
        {
          "output_type": "stream",
          "name": "stdout",
          "text": [
            "(8,)\n",
            "(0,)\n",
            "(0,)\n"
          ]
        }
      ]
    },
    {
      "cell_type": "code",
      "source": [
        "from keras.layers.convolutional import Conv3D, MaxPooling3D\n",
        "from keras.layers.core import Dense, Dropout, Flatten\n",
        "from keras.models import Sequential\n",
        "from keras.layers import Activation, ZeroPadding3D, TimeDistributed, LSTM, GRU, Reshape\n",
        "#from keras.utils import plot_model\n",
        "from keras.utils.vis_utils import plot_model\n",
        "#from keras.layers.normalization import BatchNormalization\n",
        "from tensorflow.keras.layers import BatchNormalization\n",
        "import matplotlib.pyplot as plt"
      ],
      "metadata": {
        "id": "IUp2t4bw4nTN"
      },
      "execution_count": null,
      "outputs": []
    },
    {
      "cell_type": "code",
      "source": [
        "model = Sequential()\n",
        "\n",
        "# 1st layer group\n",
        "model.add(Conv3D(64, (3, 3, 3), strides = 1, input_shape=(22, 100, 100, 1), activation='relu', padding='valid'))\n",
        "model.add(MaxPooling3D(pool_size=(2, 2, 2), strides=2))\n",
        "\n",
        "model.add(Conv3D(128, (3, 3, 3), activation='relu', strides=1))\n",
        "model.add(MaxPooling3D(pool_size=(2, 2, 2), strides=2))\n",
        "\n",
        "model.add(Conv3D(256, (2, 2, 2), activation='relu', strides=1))\n",
        "model.add(MaxPooling3D(pool_size=(2, 2, 2), strides=2))\n",
        "\n",
        "model.add((Flatten()))\n",
        "\n",
        "# # FC layers group\n",
        "model.add(Dense(4096, activation='relu'))\n",
        "model.add(Dropout(.5))\n",
        "model.add(Dense(2048, activation='relu'))\n",
        "model.add(Dropout(.5))\n",
        "\n",
        "model.add(Dense(10, activation='softmax'))\n",
        "\n",
        "#model.compile(loss='categorical_crossentropy', optimizer='Adagrad', metrics=['accuracy'])\n",
        "model.compile(loss='sparse_categorical_crossentropy', optimizer='Adagrad', metrics=['accuracy'])\n",
        "model.summary()"
      ],
      "metadata": {
        "id": "WVHJ38qA4aJ1",
        "colab": {
          "base_uri": "https://localhost:8080/"
        },
        "outputId": "14a9dd46-c58f-4811-decf-68408952fb19"
      },
      "execution_count": null,
      "outputs": [
        {
          "output_type": "stream",
          "name": "stdout",
          "text": [
            "Model: \"sequential\"\n",
            "_________________________________________________________________\n",
            " Layer (type)                Output Shape              Param #   \n",
            "=================================================================\n",
            " conv3d (Conv3D)             (None, 20, 98, 98, 64)    1792      \n",
            "                                                                 \n",
            " max_pooling3d (MaxPooling3D  (None, 10, 49, 49, 64)   0         \n",
            " )                                                               \n",
            "                                                                 \n",
            " conv3d_1 (Conv3D)           (None, 8, 47, 47, 128)    221312    \n",
            "                                                                 \n",
            " max_pooling3d_1 (MaxPooling  (None, 4, 23, 23, 128)   0         \n",
            " 3D)                                                             \n",
            "                                                                 \n",
            " conv3d_2 (Conv3D)           (None, 3, 22, 22, 256)    262400    \n",
            "                                                                 \n",
            " max_pooling3d_2 (MaxPooling  (None, 1, 11, 11, 256)   0         \n",
            " 3D)                                                             \n",
            "                                                                 \n",
            " flatten (Flatten)           (None, 30976)             0         \n",
            "                                                                 \n",
            " dense (Dense)               (None, 4096)              126881792 \n",
            "                                                                 \n",
            " dropout (Dropout)           (None, 4096)              0         \n",
            "                                                                 \n",
            " dense_1 (Dense)             (None, 2048)              8390656   \n",
            "                                                                 \n",
            " dropout_1 (Dropout)         (None, 2048)              0         \n",
            "                                                                 \n",
            " dense_2 (Dense)             (None, 10)                20490     \n",
            "                                                                 \n",
            "=================================================================\n",
            "Total params: 135,778,442\n",
            "Trainable params: 135,778,442\n",
            "Non-trainable params: 0\n",
            "_________________________________________________________________\n"
          ]
        }
      ]
    },
    {
      "cell_type": "code",
      "source": [
        "X_train.shape\n"
      ],
      "metadata": {
        "colab": {
          "base_uri": "https://localhost:8080/"
        },
        "id": "XxXwJ7BO2xNj",
        "outputId": "c88c01f6-270c-4831-c24e-46d6eec72c38"
      },
      "execution_count": null,
      "outputs": [
        {
          "output_type": "execute_result",
          "data": {
            "text/plain": [
              "(8, 22, 100, 100)"
            ]
          },
          "metadata": {},
          "execution_count": 18
        }
      ]
    },
    {
      "cell_type": "code",
      "source": [
        "y_train.shape"
      ],
      "metadata": {
        "colab": {
          "base_uri": "https://localhost:8080/"
        },
        "id": "VznRPiQs225S",
        "outputId": "24383672-fc50-4c11-a34c-e1a2e0b028ac"
      },
      "execution_count": null,
      "outputs": [
        {
          "output_type": "execute_result",
          "data": {
            "text/plain": [
              "(8,)"
            ]
          },
          "metadata": {},
          "execution_count": 19
        }
      ]
    },
    {
      "cell_type": "code",
      "source": [
        "t1 = time.time()\n",
        "history = model.fit(X_train, y_train, validation_data=(X_val, y_val), epochs=45)\n",
        "t2 = time.time()\n",
        "print()\n",
        "print(f\"Training time : {t2 - t1} secs.\")"
      ],
      "metadata": {
        "id": "WfCKHadB4xXj",
        "colab": {
          "base_uri": "https://localhost:8080/"
        },
        "outputId": "a27d0317-1514-4f90-8531-ded6c782b201"
      },
      "execution_count": null,
      "outputs": [
        {
          "output_type": "stream",
          "name": "stdout",
          "text": [
            "Epoch 1/45\n",
            "1/1 [==============================] - 31s 31s/step - loss: 8.0990 - accuracy: 0.1250\n",
            "Epoch 2/45\n",
            "1/1 [==============================] - 20s 20s/step - loss: 34.2427 - accuracy: 0.5000\n",
            "Epoch 3/45\n",
            "1/1 [==============================] - 20s 20s/step - loss: 132.3996 - accuracy: 0.5000\n",
            "Epoch 4/45\n",
            "1/1 [==============================] - 20s 20s/step - loss: 5.0177 - accuracy: 0.3750\n",
            "Epoch 5/45\n",
            "1/1 [==============================] - 21s 21s/step - loss: 5.5865 - accuracy: 0.5000\n",
            "Epoch 6/45\n",
            "1/1 [==============================] - 20s 20s/step - loss: 5.5998 - accuracy: 0.5000\n",
            "Epoch 7/45\n",
            "1/1 [==============================] - 20s 20s/step - loss: 2.0475 - accuracy: 0.2500\n",
            "Epoch 8/45\n",
            "1/1 [==============================] - 20s 20s/step - loss: 1.3108 - accuracy: 0.6250\n",
            "Epoch 9/45\n",
            "1/1 [==============================] - 20s 20s/step - loss: 2.4774 - accuracy: 0.5000\n",
            "Epoch 10/45\n",
            "1/1 [==============================] - 20s 20s/step - loss: 1.5274 - accuracy: 0.5000\n",
            "Epoch 11/45\n",
            "1/1 [==============================] - 20s 20s/step - loss: 1.7970 - accuracy: 0.6250\n",
            "Epoch 12/45\n",
            "1/1 [==============================] - 20s 20s/step - loss: 1.1136 - accuracy: 0.6250\n",
            "Epoch 13/45\n",
            "1/1 [==============================] - 20s 20s/step - loss: 0.8615 - accuracy: 0.6250\n",
            "Epoch 14/45\n",
            "1/1 [==============================] - 20s 20s/step - loss: 0.8806 - accuracy: 0.6250\n",
            "Epoch 15/45\n",
            "1/1 [==============================] - 20s 20s/step - loss: 0.7996 - accuracy: 0.6250\n",
            "Epoch 16/45\n",
            "1/1 [==============================] - 20s 20s/step - loss: 1.0823 - accuracy: 0.6250\n",
            "Epoch 17/45\n",
            "1/1 [==============================] - 20s 20s/step - loss: 0.3396 - accuracy: 0.8750\n",
            "Epoch 18/45\n",
            "1/1 [==============================] - 20s 20s/step - loss: 0.1678 - accuracy: 0.8750\n",
            "Epoch 19/45\n",
            "1/1 [==============================] - 20s 20s/step - loss: 0.2828 - accuracy: 0.8750\n",
            "Epoch 20/45\n",
            "1/1 [==============================] - 20s 20s/step - loss: 0.5463 - accuracy: 0.7500\n",
            "Epoch 21/45\n",
            "1/1 [==============================] - 20s 20s/step - loss: 0.2429 - accuracy: 1.0000\n",
            "Epoch 22/45\n",
            "1/1 [==============================] - 20s 20s/step - loss: 0.7218 - accuracy: 0.8750\n",
            "Epoch 23/45\n",
            "1/1 [==============================] - 20s 20s/step - loss: 0.7689 - accuracy: 0.7500\n",
            "Epoch 24/45\n",
            "1/1 [==============================] - 20s 20s/step - loss: 0.2385 - accuracy: 0.8750\n",
            "Epoch 25/45\n",
            "1/1 [==============================] - 20s 20s/step - loss: 0.1140 - accuracy: 1.0000\n",
            "Epoch 26/45\n",
            "1/1 [==============================] - 20s 20s/step - loss: 0.3818 - accuracy: 0.8750\n",
            "Epoch 27/45\n",
            "1/1 [==============================] - 20s 20s/step - loss: 0.5724 - accuracy: 0.8750\n",
            "Epoch 28/45\n",
            "1/1 [==============================] - 20s 20s/step - loss: 0.3600 - accuracy: 0.8750\n",
            "Epoch 29/45\n",
            "1/1 [==============================] - 20s 20s/step - loss: 0.5668 - accuracy: 0.7500\n",
            "Epoch 30/45\n",
            "1/1 [==============================] - 20s 20s/step - loss: 0.5160 - accuracy: 0.8750\n",
            "Epoch 31/45\n",
            "1/1 [==============================] - 20s 20s/step - loss: 0.3075 - accuracy: 0.8750\n",
            "Epoch 32/45\n",
            "1/1 [==============================] - 20s 20s/step - loss: 0.2329 - accuracy: 0.8750\n",
            "Epoch 33/45\n",
            "1/1 [==============================] - 20s 20s/step - loss: 0.1764 - accuracy: 0.8750\n",
            "Epoch 34/45\n",
            "1/1 [==============================] - 20s 20s/step - loss: 0.0702 - accuracy: 1.0000\n",
            "Epoch 35/45\n",
            "1/1 [==============================] - 20s 20s/step - loss: 0.7228 - accuracy: 0.6250\n",
            "Epoch 36/45\n",
            "1/1 [==============================] - 20s 20s/step - loss: 0.4960 - accuracy: 0.7500\n",
            "Epoch 37/45\n",
            "1/1 [==============================] - 20s 20s/step - loss: 0.0818 - accuracy: 1.0000\n",
            "Epoch 38/45\n",
            "1/1 [==============================] - 20s 20s/step - loss: 0.4465 - accuracy: 0.7500\n",
            "Epoch 39/45\n",
            "1/1 [==============================] - 20s 20s/step - loss: 0.1745 - accuracy: 1.0000\n",
            "Epoch 40/45\n",
            "1/1 [==============================] - 20s 20s/step - loss: 0.1479 - accuracy: 0.8750\n",
            "Epoch 41/45\n",
            "1/1 [==============================] - 20s 20s/step - loss: 0.0619 - accuracy: 1.0000\n",
            "Epoch 42/45\n",
            "1/1 [==============================] - 20s 20s/step - loss: 0.1664 - accuracy: 0.8750\n",
            "Epoch 43/45\n",
            "1/1 [==============================] - 20s 20s/step - loss: 0.1068 - accuracy: 1.0000\n",
            "Epoch 44/45\n",
            "1/1 [==============================] - 20s 20s/step - loss: 0.4374 - accuracy: 0.8750\n",
            "Epoch 45/45\n",
            "1/1 [==============================] - 20s 20s/step - loss: 0.1669 - accuracy: 0.8750\n",
            "\n",
            "Training time : 894.5638382434845 secs.\n"
          ]
        }
      ]
    },
    {
      "cell_type": "code",
      "source": [
        "# Plot training & validation accuracy values\n",
        "plt.plot(history.history['accuracy'])\n",
        "#plt.plot(history.history['val_accuracy'])\n",
        "plt.title('Model accuracy')\n",
        "plt.ylabel('Accuracy')\n",
        "plt.xlabel('Epoch')\n",
        "plt.legend(['Train', 'Validation'], loc='upper left')\n",
        "plt.show()"
      ],
      "metadata": {
        "id": "0oQ10Qx14zw6",
        "colab": {
          "base_uri": "https://localhost:8080/",
          "height": 295
        },
        "outputId": "8f44c097-9ff3-4818-aabe-ab07c8aecb6a"
      },
      "execution_count": null,
      "outputs": [
        {
          "output_type": "display_data",
          "data": {
            "image/png": "[encoded data removed]",
            "text/plain": [
              "<Figure size 432x288 with 1 Axes>"
            ]
          },
          "metadata": {
            "needs_background": "light"
          }
        }
      ]
    },
    {
      "cell_type": "code",
      "source": [
        "# Plot training & validation loss values\n",
        "plt.plot(history.history['loss'])\n",
        "#plt.plot(history.history['val_loss'])\n",
        "plt.title('Model loss')\n",
        "plt.ylabel('Loss')\n",
        "plt.xlabel('Epoch')\n",
        "plt.xlim(1, 40)\n",
        "# plt.ylim(0, 3)\n",
        "plt.legend(['Train', 'Validation'], loc='upper left')\n",
        "plt.show()"
      ],
      "metadata": {
        "id": "pwtHKL6t431O",
        "colab": {
          "base_uri": "https://localhost:8080/",
          "height": 295
        },
        "outputId": "2f30da31-d5be-4969-eaf7-5865b435ff23"
      },
      "execution_count": null,
      "outputs": [
        {
          "output_type": "display_data",
          "data": {
            "image/png": "[encoded data removed]",
            "text/plain": [
              "<Figure size 432x288 with 1 Axes>"
            ]
          },
          "metadata": {
            "needs_background": "light"
          }
        }
      ]
    },
    {
      "cell_type": "code",
      "source": [
        ""
      ],
      "metadata": {
        "id": "XeQTfq_Y7njF"
      },
      "execution_count": null,
      "outputs": []
    }
  ]
}